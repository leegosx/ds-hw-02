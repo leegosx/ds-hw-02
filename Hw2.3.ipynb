{
 "cells": [
  {
   "cell_type": "code",
   "execution_count": 1,
   "id": "e044c47a",
   "metadata": {},
   "outputs": [],
   "source": [
    "import pandas as pd\n",
    "import matplotlib.pyplot as plt\n",
    "%matplotlib inline\n",
    "\n",
    "## 1. Reading file\n",
    "df = pd.read_csv(\"D:/DS-GOIT/ds-hw-2/bestsellers with categories.csv\")"
   ]
  },
  {
   "cell_type": "markdown",
   "id": "ec0bbfc3",
   "metadata": {},
   "source": [
    "__Initial Data Exploration__"
   ]
  },
  {
   "cell_type": "code",
   "execution_count": 2,
   "id": "ad861730",
   "metadata": {},
   "outputs": [
    {
     "data": {
      "text/html": [
       "<div>\n",
       "<style scoped>\n",
       "    .dataframe tbody tr th:only-of-type {\n",
       "        vertical-align: middle;\n",
       "    }\n",
       "\n",
       "    .dataframe tbody tr th {\n",
       "        vertical-align: top;\n",
       "    }\n",
       "\n",
       "    .dataframe thead th {\n",
       "        text-align: right;\n",
       "    }\n",
       "</style>\n",
       "<table border=\"1\" class=\"dataframe\">\n",
       "  <thead>\n",
       "    <tr style=\"text-align: right;\">\n",
       "      <th></th>\n",
       "      <th>Name</th>\n",
       "      <th>Author</th>\n",
       "      <th>User Rating</th>\n",
       "      <th>Reviews</th>\n",
       "      <th>Price</th>\n",
       "      <th>Year</th>\n",
       "      <th>Genre</th>\n",
       "    </tr>\n",
       "  </thead>\n",
       "  <tbody>\n",
       "    <tr>\n",
       "      <th>0</th>\n",
       "      <td>10-Day Green Smoothie Cleanse</td>\n",
       "      <td>JJ Smith</td>\n",
       "      <td>4.7</td>\n",
       "      <td>17350</td>\n",
       "      <td>8</td>\n",
       "      <td>2016</td>\n",
       "      <td>Non Fiction</td>\n",
       "    </tr>\n",
       "    <tr>\n",
       "      <th>1</th>\n",
       "      <td>11/22/63: A Novel</td>\n",
       "      <td>Stephen King</td>\n",
       "      <td>4.6</td>\n",
       "      <td>2052</td>\n",
       "      <td>22</td>\n",
       "      <td>2011</td>\n",
       "      <td>Fiction</td>\n",
       "    </tr>\n",
       "    <tr>\n",
       "      <th>2</th>\n",
       "      <td>12 Rules for Life: An Antidote to Chaos</td>\n",
       "      <td>Jordan B. Peterson</td>\n",
       "      <td>4.7</td>\n",
       "      <td>18979</td>\n",
       "      <td>15</td>\n",
       "      <td>2018</td>\n",
       "      <td>Non Fiction</td>\n",
       "    </tr>\n",
       "    <tr>\n",
       "      <th>3</th>\n",
       "      <td>1984 (Signet Classics)</td>\n",
       "      <td>George Orwell</td>\n",
       "      <td>4.7</td>\n",
       "      <td>21424</td>\n",
       "      <td>6</td>\n",
       "      <td>2017</td>\n",
       "      <td>Fiction</td>\n",
       "    </tr>\n",
       "    <tr>\n",
       "      <th>4</th>\n",
       "      <td>5,000 Awesome Facts (About Everything!) (Natio...</td>\n",
       "      <td>National Geographic Kids</td>\n",
       "      <td>4.8</td>\n",
       "      <td>7665</td>\n",
       "      <td>12</td>\n",
       "      <td>2019</td>\n",
       "      <td>Non Fiction</td>\n",
       "    </tr>\n",
       "  </tbody>\n",
       "</table>\n",
       "</div>"
      ],
      "text/plain": [
       "                                                Name  \\\n",
       "0                      10-Day Green Smoothie Cleanse   \n",
       "1                                  11/22/63: A Novel   \n",
       "2            12 Rules for Life: An Antidote to Chaos   \n",
       "3                             1984 (Signet Classics)   \n",
       "4  5,000 Awesome Facts (About Everything!) (Natio...   \n",
       "\n",
       "                     Author  User Rating  Reviews  Price  Year        Genre  \n",
       "0                  JJ Smith          4.7    17350      8  2016  Non Fiction  \n",
       "1              Stephen King          4.6     2052     22  2011      Fiction  \n",
       "2        Jordan B. Peterson          4.7    18979     15  2018  Non Fiction  \n",
       "3             George Orwell          4.7    21424      6  2017      Fiction  \n",
       "4  National Geographic Kids          4.8     7665     12  2019  Non Fiction  "
      ]
     },
     "execution_count": 2,
     "metadata": {},
     "output_type": "execute_result"
    }
   ],
   "source": [
    "## 2. # Displaying the first five lines of the dataset\n",
    "df.head()"
   ]
  },
  {
   "cell_type": "code",
   "execution_count": 3,
   "id": "231606cb",
   "metadata": {},
   "outputs": [],
   "source": [
    "## 3. Display the dimensions of the dataset (use the shape attribute)"
   ]
  },
  {
   "cell_type": "code",
   "execution_count": 4,
   "id": "099cc61c",
   "metadata": {},
   "outputs": [
    {
     "name": "stdout",
     "output_type": "stream",
     "text": [
      "Answer: (550, 7)\n"
     ]
    }
   ],
   "source": [
    "## - Answer: How many books does the dataset?\n",
    "print(\"Answer:\", df.shape)"
   ]
  },
  {
   "cell_type": "code",
   "execution_count": 5,
   "id": "86221419",
   "metadata": {},
   "outputs": [
    {
     "name": "stdout",
     "output_type": "stream",
     "text": [
      "Number of duplicate rows: 199\n",
      "Number of duplicates after cleaning: 0\n",
      "Shape of DataFrame: (351, 7)\n"
     ]
    }
   ],
   "source": [
    "duplicates = df.duplicated(['Name']).sum()\n",
    "print(\"Number of duplicate rows:\", duplicates)\n",
    "\n",
    "if duplicates:\n",
    "    df = df.drop_duplicates(['Name'])\n",
    "    new_duplicates = df.duplicated(['Name']).sum()\n",
    "    print(\"Number of duplicates after cleaning:\", new_duplicates)\n",
    "else:\n",
    "    print('Dataset does not contain duplicates')\n",
    "\n",
    "print(\"Shape of DataFrame:\", df.shape)"
   ]
  },
  {
   "cell_type": "code",
   "execution_count": 6,
   "id": "611bc088",
   "metadata": {},
   "outputs": [],
   "source": [
    "# Renaming the columns\n",
    "df.columns = ['name', 'author', 'user_rating', 'reviews', 'price', 'year', 'genre']"
   ]
  },
  {
   "cell_type": "code",
   "execution_count": 7,
   "id": "0773638a",
   "metadata": {},
   "outputs": [],
   "source": [
    "## 4. Check if all rows have complete data: display the number of missing values (na) in each column (use the isna and sum functions)."
   ]
  },
  {
   "cell_type": "code",
   "execution_count": 8,
   "id": "0c79a30c",
   "metadata": {},
   "outputs": [
    {
     "data": {
      "text/plain": [
       "name           0\n",
       "author         0\n",
       "user_rating    0\n",
       "reviews        0\n",
       "price          0\n",
       "year           0\n",
       "genre          0\n",
       "dtype: int64"
      ]
     },
     "execution_count": 8,
     "metadata": {},
     "output_type": "execute_result"
    }
   ],
   "source": [
    "missing_values = df.isna().sum()\n",
    "missing_values"
   ]
  },
  {
   "cell_type": "code",
   "execution_count": 9,
   "id": "69d428f4",
   "metadata": {},
   "outputs": [],
   "source": [
    "## - Answer: Are there gaps in any variables? (Yes No)\n",
    "## - No"
   ]
  },
  {
   "cell_type": "code",
   "execution_count": 10,
   "id": "4768c347",
   "metadata": {},
   "outputs": [],
   "source": [
    "## 5. Check what unique values are present in the column 'genre' (use the unique function)."
   ]
  },
  {
   "cell_type": "code",
   "execution_count": 11,
   "id": "48d5516a",
   "metadata": {},
   "outputs": [
    {
     "name": "stdout",
     "output_type": "stream",
     "text": [
      "['Non Fiction' 'Fiction']\n"
     ]
    }
   ],
   "source": [
    "unique_genres = df['genre'].unique()\n",
    "print(unique_genres)"
   ]
  },
  {
   "cell_type": "code",
   "execution_count": 12,
   "id": "6db51ae8",
   "metadata": {},
   "outputs": [],
   "source": [
    "## - Answer: What are the unique genres?\n",
    "## - 'Non Fiction' and 'Fiction'"
   ]
  },
  {
   "cell_type": "code",
   "execution_count": 13,
   "id": "fae88aca",
   "metadata": {},
   "outputs": [],
   "source": [
    "## 6. Now, look at the distribution of prices: construct a histogram (use kind='hist')."
   ]
  },
  {
   "cell_type": "code",
   "execution_count": 14,
   "id": "3e2996d6",
   "metadata": {},
   "outputs": [
    {
     "data": {
      "image/png": "[encoded data removed]",
      "text/plain": [
       "<Figure size 800x500 with 1 Axes>"
      ]
     },
     "metadata": {},
     "output_type": "display_data"
    }
   ],
   "source": [
    "plt.figure(figsize=(8, 5))\n",
    "df['price'].plot(kind='hist', bins=20, color='skyblue', edgecolor='black')\n",
    "plt.title('Price Distribution')\n",
    "plt.xlabel('Price (in Dollars)')\n",
    "plt.ylabel('Requency')\n",
    "plt.show()"
   ]
  },
  {
   "cell_type": "code",
   "execution_count": 15,
   "id": "aa10d4e5",
   "metadata": {},
   "outputs": [
    {
     "name": "stdout",
     "output_type": "stream",
     "text": [
      "Maximum price: 105 \n",
      "Minimum price: 0 \n",
      "Average price: 13.076923076923077 \n",
      "Median price: 12.0\n"
     ]
    }
   ],
   "source": [
    "## 7. Determine the maximum, minimum, average, and median price (use the functions max, min, mean, median).\n",
    "max_price = df['price'].max()\n",
    "min_price = df['price'].min()\n",
    "avg_price = df['price'].mean()\n",
    "median_price = df['price'].median()\n",
    "print(\"Maximum price:\", max_price, \"\\nMinimum price:\", min_price, \"\\nAverage price:\", avg_price, \"\\nMedian price:\", median_price)"
   ]
  },
  {
   "cell_type": "code",
   "execution_count": 16,
   "id": "8955e11c",
   "metadata": {},
   "outputs": [],
   "source": [
    "## - Answer: Maximum price?\n",
    "## - 105\n",
    "## - Answer: Minimum price?\n",
    "## - 0\n",
    "## - Answer: Average price?\n",
    "## - 13.1\n",
    "## - Answer: Median price?\n",
    "## - 11"
   ]
  },
  {
   "cell_type": "markdown",
   "id": "d5546008",
   "metadata": {},
   "source": [
    "__Search and Sorting of Data__"
   ]
  },
  {
   "cell_type": "code",
   "execution_count": 17,
   "id": "8cec2517",
   "metadata": {},
   "outputs": [],
   "source": [
    "## 1. What is the highest rating in the dataset?"
   ]
  },
  {
   "cell_type": "code",
   "execution_count": 18,
   "id": "b61b9135",
   "metadata": {},
   "outputs": [
    {
     "name": "stdout",
     "output_type": "stream",
     "text": [
      "Answer: 4.9\n"
     ]
    }
   ],
   "source": [
    "max_rating = df['user_rating'].max()\n",
    "print(f'Answer: {max_rating}')"
   ]
  },
  {
   "cell_type": "code",
   "execution_count": 19,
   "id": "b6d3f4a2",
   "metadata": {},
   "outputs": [],
   "source": [
    "## 2. How many books have this highest rating?"
   ]
  },
  {
   "cell_type": "code",
   "execution_count": 20,
   "id": "71d2b044",
   "metadata": {},
   "outputs": [
    {
     "name": "stdout",
     "output_type": "stream",
     "text": [
      "Answer: 28\n"
     ]
    }
   ],
   "source": [
    "books_with_highest_ratings = df[df['user_rating'] == max_rating]\n",
    "count_books = books_with_highest_ratings['name'].count()\n",
    "print(f\"Answer:\", count_books)"
   ]
  },
  {
   "cell_type": "code",
   "execution_count": 21,
   "id": "bf0357eb",
   "metadata": {},
   "outputs": [],
   "source": [
    "## 3. Which book has the most reviews?"
   ]
  },
  {
   "cell_type": "code",
   "execution_count": 22,
   "id": "dfc67da6",
   "metadata": {},
   "outputs": [
    {
     "name": "stdout",
     "output_type": "stream",
     "text": [
      "Answer: Where the Crawdads Sing\n"
     ]
    }
   ],
   "source": [
    "book_with_most_reviews = df.loc[df['reviews'].idxmax(), 'name']\n",
    "print(\"Answer:\", book_with_most_reviews)"
   ]
  },
  {
   "cell_type": "code",
   "execution_count": 23,
   "id": "c59d96b2",
   "metadata": {},
   "outputs": [],
   "source": [
    "## 4. Among the books that made it to the Top 50 in 2015, which one is the most expensive?"
   ]
  },
  {
   "cell_type": "code",
   "execution_count": 24,
   "id": "f3c6ce99",
   "metadata": {},
   "outputs": [
    {
     "name": "stdout",
     "output_type": "stream",
     "text": [
      "Answer: Go Set a Watchman: A Novel\n"
     ]
    }
   ],
   "source": [
    "most_expensive_book_2015 = df[df['year'] == 2015].sort_values(by='price', ascending=False).iloc[0]['name']\n",
    "print(\"Answer:\", most_expensive_book_2015)"
   ]
  },
  {
   "cell_type": "code",
   "execution_count": 25,
   "id": "f6532188",
   "metadata": {},
   "outputs": [
    {
     "name": "stdout",
     "output_type": "stream",
     "text": [
      "17 Fiction Books was in Top 50(2010 year)\n"
     ]
    }
   ],
   "source": [
    "## 5. Count of Fiction books in Top 50 in 2010\n",
    "fiction_books_2010 = df[(df['year'] == 2010) & (df['genre'] == 'Fiction')].shape[0]\n",
    "print(f'{fiction_books_2010} Fiction Books was in Top 50(2010 year)')"
   ]
  },
  {
   "cell_type": "code",
   "execution_count": 26,
   "id": "580965b2",
   "metadata": {},
   "outputs": [],
   "source": [
    "## 6. How many books with a rating of 4.9 made it to the rating list in 2010 or 2011 (use the | or isin function)?"
   ]
  },
  {
   "cell_type": "code",
   "execution_count": 27,
   "id": "28fcb429",
   "metadata": {},
   "outputs": [
    {
     "name": "stdout",
     "output_type": "stream",
     "text": [
      "Books Rated 4.9 in 2010 or 2011: 1\n"
     ]
    }
   ],
   "source": [
    "books_rated_4_9 = df[(df['user_rating'] == 4.9) & ((df['year'] == 2010) | (df['year'] == 2011))].shape[0]\n",
    "print('Books Rated 4.9 in 2010 or 2011:', books_rated_4_9)"
   ]
  },
  {
   "cell_type": "code",
   "execution_count": 28,
   "id": "a410ed37",
   "metadata": {},
   "outputs": [
    {
     "data": {
      "text/html": [
       "<div>\n",
       "<style scoped>\n",
       "    .dataframe tbody tr th:only-of-type {\n",
       "        vertical-align: middle;\n",
       "    }\n",
       "\n",
       "    .dataframe tbody tr th {\n",
       "        vertical-align: top;\n",
       "    }\n",
       "\n",
       "    .dataframe thead th {\n",
       "        text-align: right;\n",
       "    }\n",
       "</style>\n",
       "<table border=\"1\" class=\"dataframe\">\n",
       "  <thead>\n",
       "    <tr style=\"text-align: right;\">\n",
       "      <th></th>\n",
       "      <th>name</th>\n",
       "      <th>author</th>\n",
       "      <th>user_rating</th>\n",
       "      <th>reviews</th>\n",
       "      <th>price</th>\n",
       "      <th>year</th>\n",
       "      <th>genre</th>\n",
       "    </tr>\n",
       "  </thead>\n",
       "  <tbody>\n",
       "    <tr>\n",
       "      <th>54</th>\n",
       "      <td>Creative Haven Creative Cats Coloring Book (Ad...</td>\n",
       "      <td>Marjorie Sarnat</td>\n",
       "      <td>4.8</td>\n",
       "      <td>4022</td>\n",
       "      <td>4</td>\n",
       "      <td>2015</td>\n",
       "      <td>Non Fiction</td>\n",
       "    </tr>\n",
       "    <tr>\n",
       "      <th>123</th>\n",
       "      <td>Giraffes Can't Dance</td>\n",
       "      <td>Giles Andreae</td>\n",
       "      <td>4.8</td>\n",
       "      <td>14038</td>\n",
       "      <td>4</td>\n",
       "      <td>2015</td>\n",
       "      <td>Fiction</td>\n",
       "    </tr>\n",
       "    <tr>\n",
       "      <th>28</th>\n",
       "      <td>Baby Touch and Feel: Animals</td>\n",
       "      <td>DK</td>\n",
       "      <td>4.6</td>\n",
       "      <td>5360</td>\n",
       "      <td>5</td>\n",
       "      <td>2015</td>\n",
       "      <td>Non Fiction</td>\n",
       "    </tr>\n",
       "    <tr>\n",
       "      <th>55</th>\n",
       "      <td>Creative Haven Owls Coloring Book (Adult Color...</td>\n",
       "      <td>Marjorie Sarnat</td>\n",
       "      <td>4.8</td>\n",
       "      <td>3871</td>\n",
       "      <td>5</td>\n",
       "      <td>2015</td>\n",
       "      <td>Non Fiction</td>\n",
       "    </tr>\n",
       "    <tr>\n",
       "      <th>63</th>\n",
       "      <td>Dear Zoo: A Lift-the-Flap Book</td>\n",
       "      <td>Rod Campbell</td>\n",
       "      <td>4.8</td>\n",
       "      <td>10922</td>\n",
       "      <td>5</td>\n",
       "      <td>2015</td>\n",
       "      <td>Fiction</td>\n",
       "    </tr>\n",
       "    <tr>\n",
       "      <th>89</th>\n",
       "      <td>Dover Creative Haven Art Nouveau Animal Design...</td>\n",
       "      <td>Marty Noble</td>\n",
       "      <td>4.6</td>\n",
       "      <td>2134</td>\n",
       "      <td>5</td>\n",
       "      <td>2015</td>\n",
       "      <td>Non Fiction</td>\n",
       "    </tr>\n",
       "    <tr>\n",
       "      <th>201</th>\n",
       "      <td>Killing Reagan: The Violent Assault That Chang...</td>\n",
       "      <td>Bill O'Reilly</td>\n",
       "      <td>4.6</td>\n",
       "      <td>5235</td>\n",
       "      <td>5</td>\n",
       "      <td>2015</td>\n",
       "      <td>Non Fiction</td>\n",
       "    </tr>\n",
       "    <tr>\n",
       "      <th>16</th>\n",
       "      <td>Adult Coloring Book: Stress Relieving Animal D...</td>\n",
       "      <td>Blue Star Coloring</td>\n",
       "      <td>4.6</td>\n",
       "      <td>2925</td>\n",
       "      <td>6</td>\n",
       "      <td>2015</td>\n",
       "      <td>Non Fiction</td>\n",
       "    </tr>\n",
       "    <tr>\n",
       "      <th>17</th>\n",
       "      <td>Adult Coloring Book: Stress Relieving Patterns</td>\n",
       "      <td>Blue Star Coloring</td>\n",
       "      <td>4.4</td>\n",
       "      <td>2951</td>\n",
       "      <td>6</td>\n",
       "      <td>2015</td>\n",
       "      <td>Non Fiction</td>\n",
       "    </tr>\n",
       "    <tr>\n",
       "      <th>253</th>\n",
       "      <td>Old School (Diary of a Wimpy Kid #10)</td>\n",
       "      <td>Jeff Kinney</td>\n",
       "      <td>4.8</td>\n",
       "      <td>6169</td>\n",
       "      <td>7</td>\n",
       "      <td>2015</td>\n",
       "      <td>Fiction</td>\n",
       "    </tr>\n",
       "  </tbody>\n",
       "</table>\n",
       "</div>"
      ],
      "text/plain": [
       "                                                  name              author  \\\n",
       "54   Creative Haven Creative Cats Coloring Book (Ad...     Marjorie Sarnat   \n",
       "123                               Giraffes Can't Dance       Giles Andreae   \n",
       "28                        Baby Touch and Feel: Animals                  DK   \n",
       "55   Creative Haven Owls Coloring Book (Adult Color...     Marjorie Sarnat   \n",
       "63                      Dear Zoo: A Lift-the-Flap Book        Rod Campbell   \n",
       "89   Dover Creative Haven Art Nouveau Animal Design...         Marty Noble   \n",
       "201  Killing Reagan: The Violent Assault That Chang...       Bill O'Reilly   \n",
       "16   Adult Coloring Book: Stress Relieving Animal D...  Blue Star Coloring   \n",
       "17      Adult Coloring Book: Stress Relieving Patterns  Blue Star Coloring   \n",
       "253              Old School (Diary of a Wimpy Kid #10)         Jeff Kinney   \n",
       "\n",
       "     user_rating  reviews  price  year        genre  \n",
       "54           4.8     4022      4  2015  Non Fiction  \n",
       "123          4.8    14038      4  2015      Fiction  \n",
       "28           4.6     5360      5  2015  Non Fiction  \n",
       "55           4.8     3871      5  2015  Non Fiction  \n",
       "63           4.8    10922      5  2015      Fiction  \n",
       "89           4.6     2134      5  2015  Non Fiction  \n",
       "201          4.6     5235      5  2015  Non Fiction  \n",
       "16           4.6     2925      6  2015  Non Fiction  \n",
       "17           4.4     2951      6  2015  Non Fiction  \n",
       "253          4.8     6169      7  2015      Fiction  "
      ]
     },
     "execution_count": 28,
     "metadata": {},
     "output_type": "execute_result"
    }
   ],
   "source": [
    "## 7. Sorting books by price in 2015 that cost less than $8\n",
    "sorted_books_by_price = df[(df['price'] < 8) & (df['year'] == 2015)].sort_values(by='price', ascending=True)\n",
    "sorted_books_by_price"
   ]
  },
  {
   "cell_type": "code",
   "execution_count": 29,
   "id": "b8bccc06",
   "metadata": {},
   "outputs": [],
   "source": [
    "## 8. Which book is the last one in the sorted list?"
   ]
  },
  {
   "cell_type": "code",
   "execution_count": 30,
   "id": "777cd3d9",
   "metadata": {},
   "outputs": [
    {
     "name": "stdout",
     "output_type": "stream",
     "text": [
      "Last book in the sorted list: Old School (Diary of a Wimpy Kid #10)\n"
     ]
    }
   ],
   "source": [
    "last_book_sorted = sorted_books_by_price['name'].iloc[-1]\n",
    "print(\"Last book in the sorted list:\", last_book_sorted)"
   ]
  },
  {
   "cell_type": "markdown",
   "id": "0a3c7df2",
   "metadata": {},
   "source": [
    "__Data Aggregation and Table Joining__"
   ]
  },
  {
   "cell_type": "code",
   "execution_count": 31,
   "id": "e0fe18e0",
   "metadata": {},
   "outputs": [],
   "source": [
    "## 1. Let's start by looking at the maximum and minimum prices for each of the genres (use the groupby and agg functions, and for calculating the minimum and maximum values, use max and min)."
   ]
  },
  {
   "cell_type": "code",
   "execution_count": 32,
   "id": "b31c5019",
   "metadata": {},
   "outputs": [
    {
     "data": {
      "text/html": [
       "<div>\n",
       "<style scoped>\n",
       "    .dataframe tbody tr th:only-of-type {\n",
       "        vertical-align: middle;\n",
       "    }\n",
       "\n",
       "    .dataframe tbody tr th {\n",
       "        vertical-align: top;\n",
       "    }\n",
       "\n",
       "    .dataframe thead th {\n",
       "        text-align: right;\n",
       "    }\n",
       "</style>\n",
       "<table border=\"1\" class=\"dataframe\">\n",
       "  <thead>\n",
       "    <tr style=\"text-align: right;\">\n",
       "      <th></th>\n",
       "      <th>max</th>\n",
       "      <th>min</th>\n",
       "    </tr>\n",
       "    <tr>\n",
       "      <th>genre</th>\n",
       "      <th></th>\n",
       "      <th></th>\n",
       "    </tr>\n",
       "  </thead>\n",
       "  <tbody>\n",
       "    <tr>\n",
       "      <th>Fiction</th>\n",
       "      <td>82</td>\n",
       "      <td>0</td>\n",
       "    </tr>\n",
       "    <tr>\n",
       "      <th>Non Fiction</th>\n",
       "      <td>105</td>\n",
       "      <td>0</td>\n",
       "    </tr>\n",
       "  </tbody>\n",
       "</table>\n",
       "</div>"
      ],
      "text/plain": [
       "             max  min\n",
       "genre                \n",
       "Fiction       82    0\n",
       "Non Fiction  105    0"
      ]
     },
     "execution_count": 32,
     "metadata": {},
     "output_type": "execute_result"
    }
   ],
   "source": [
    "genres_price = df.groupby('genre')['price'].agg(['max', 'min'])\n",
    "genres_price"
   ]
  },
  {
   "cell_type": "code",
   "execution_count": 33,
   "id": "5d8fcadb",
   "metadata": {},
   "outputs": [
    {
     "name": "stdout",
     "output_type": "stream",
     "text": [
      "The maximum price for the genre Fiction: 82 \n",
      "Minimum price for Fiction genre: 0 \n",
      "Maximum price for Non Fiction genre: 105 \n",
      "Minimum price for Non Fiction genre 0\n"
     ]
    }
   ],
   "source": [
    "max_price_fiction = genres_price.loc['Fiction', 'max']\n",
    "min_price_fiction = genres_price.loc['Fiction', 'min']\n",
    "max_price_non_ficion = genres_price.loc['Non Fiction', 'max']\n",
    "min_price_non_ficion = genres_price.loc['Non Fiction', 'min']\n",
    "print(\"The maximum price for the genre Fiction:\", max_price_fiction, \"\\nMinimum price for Fiction genre:\", min_price_fiction, \"\\nMaximum price for Non Fiction genre:\", max_price_non_ficion, \"\\nMinimum price for Non Fiction genre\", min_price_non_ficion)\n",
    "## - Answer: The maximum price for the genre Fiction\n",
    "## - 82\n",
    "## - Answer: Minimum price for Fiction genre\n",
    "## - 0\n",
    "## -  Answer: Maximum price for Non Fiction genre\n",
    "## - 105\n",
    "## - Answer: Minimum price for Non Fiction genre\n",
    "## - 0"
   ]
  },
  {
   "cell_type": "code",
   "execution_count": 34,
   "id": "ed517548",
   "metadata": {},
   "outputs": [],
   "source": [
    "## 2. Creating a new DataFrame with the count of books for each author"
   ]
  },
  {
   "cell_type": "code",
   "execution_count": 35,
   "id": "92307f91",
   "metadata": {},
   "outputs": [],
   "source": [
    "new_df = df.groupby('author')['name'].agg(['count'])"
   ]
  },
  {
   "cell_type": "code",
   "execution_count": 36,
   "id": "cc49cc6b",
   "metadata": {},
   "outputs": [],
   "source": [
    "## 3. What is the dimension of the resulting table?"
   ]
  },
  {
   "cell_type": "code",
   "execution_count": 37,
   "id": "a7002419",
   "metadata": {},
   "outputs": [
    {
     "name": "stdout",
     "output_type": "stream",
     "text": [
      "Answer: 248\n"
     ]
    }
   ],
   "source": [
    "print(\"Answer:\", new_df.size)"
   ]
  },
  {
   "cell_type": "code",
   "execution_count": 38,
   "id": "1a35d9e8",
   "metadata": {},
   "outputs": [],
   "source": [
    "## 4. Which author has the most books"
   ]
  },
  {
   "cell_type": "code",
   "execution_count": 39,
   "id": "43760262",
   "metadata": {},
   "outputs": [
    {
     "name": "stdout",
     "output_type": "stream",
     "text": [
      "Answer: Jeff Kinney\n"
     ]
    }
   ],
   "source": [
    "most_books_author = new_df['count'].idxmax()\n",
    "print(\"Answer:\", most_books_author)"
   ]
  },
  {
   "cell_type": "code",
   "execution_count": 40,
   "id": "1fd95f2f",
   "metadata": {},
   "outputs": [],
   "source": [
    "## 5. How many books does this author have?"
   ]
  },
  {
   "cell_type": "code",
   "execution_count": 41,
   "id": "d0466008",
   "metadata": {},
   "outputs": [
    {
     "name": "stdout",
     "output_type": "stream",
     "text": [
      "Answer: 12\n"
     ]
    }
   ],
   "source": [
    "books_count_by_most_books_author = new_df.loc[most_books_author, 'count']\n",
    "print(\"Answer:\", books_count_by_most_books_author)"
   ]
  },
  {
   "cell_type": "code",
   "execution_count": 42,
   "id": "4a54f890",
   "metadata": {},
   "outputs": [],
   "source": [
    "## 6. Creating a DataFrame with the average rating for each author"
   ]
  },
  {
   "cell_type": "code",
   "execution_count": 43,
   "id": "48768fe0",
   "metadata": {},
   "outputs": [],
   "source": [
    "new_df2 = df.groupby('author')['user_rating'].agg('mean')"
   ]
  },
  {
   "cell_type": "code",
   "execution_count": 44,
   "id": "b51c3c66",
   "metadata": {},
   "outputs": [],
   "source": [
    "## 7. Which author has the lowest average rating?"
   ]
  },
  {
   "cell_type": "code",
   "execution_count": 45,
   "id": "88eb856b",
   "metadata": {},
   "outputs": [
    {
     "name": "stdout",
     "output_type": "stream",
     "text": [
      "Answer: Donna Tartt\n"
     ]
    }
   ],
   "source": [
    "lowest_avg_rate = new_df2.idxmin()\n",
    "print(\"Answer:\", lowest_avg_rate)"
   ]
  },
  {
   "cell_type": "code",
   "execution_count": 46,
   "id": "a294e9d4",
   "metadata": {},
   "outputs": [],
   "source": [
    "## 8. What is the average rating for this author?"
   ]
  },
  {
   "cell_type": "code",
   "execution_count": 47,
   "id": "b2a66a5d",
   "metadata": {},
   "outputs": [
    {
     "name": "stdout",
     "output_type": "stream",
     "text": [
      "Answer: 3.9\n"
     ]
    }
   ],
   "source": [
    "avg_rate_for_this_author = new_df2.min()\n",
    "print(\"Answer:\", avg_rate_for_this_author)"
   ]
  },
  {
   "cell_type": "code",
   "execution_count": 48,
   "id": "8302d70f",
   "metadata": {},
   "outputs": [],
   "source": [
    "## 9. Concatenating the two DataFrames."
   ]
  },
  {
   "cell_type": "code",
   "execution_count": 49,
   "id": "9e683931",
   "metadata": {},
   "outputs": [
    {
     "data": {
      "text/html": [
       "<div>\n",
       "<style scoped>\n",
       "    .dataframe tbody tr th:only-of-type {\n",
       "        vertical-align: middle;\n",
       "    }\n",
       "\n",
       "    .dataframe tbody tr th {\n",
       "        vertical-align: top;\n",
       "    }\n",
       "\n",
       "    .dataframe thead th {\n",
       "        text-align: right;\n",
       "    }\n",
       "</style>\n",
       "<table border=\"1\" class=\"dataframe\">\n",
       "  <thead>\n",
       "    <tr style=\"text-align: right;\">\n",
       "      <th></th>\n",
       "      <th>count</th>\n",
       "      <th>user_rating</th>\n",
       "    </tr>\n",
       "    <tr>\n",
       "      <th>author</th>\n",
       "      <th></th>\n",
       "      <th></th>\n",
       "    </tr>\n",
       "  </thead>\n",
       "  <tbody>\n",
       "    <tr>\n",
       "      <th>Abraham Verghese</th>\n",
       "      <td>1</td>\n",
       "      <td>4.60</td>\n",
       "    </tr>\n",
       "    <tr>\n",
       "      <th>Adam Gasiewski</th>\n",
       "      <td>1</td>\n",
       "      <td>4.40</td>\n",
       "    </tr>\n",
       "    <tr>\n",
       "      <th>Adam Mansbach</th>\n",
       "      <td>1</td>\n",
       "      <td>4.80</td>\n",
       "    </tr>\n",
       "    <tr>\n",
       "      <th>Adir Levy</th>\n",
       "      <td>1</td>\n",
       "      <td>4.80</td>\n",
       "    </tr>\n",
       "    <tr>\n",
       "      <th>Admiral William H. McRaven</th>\n",
       "      <td>1</td>\n",
       "      <td>4.70</td>\n",
       "    </tr>\n",
       "    <tr>\n",
       "      <th>...</th>\n",
       "      <td>...</td>\n",
       "      <td>...</td>\n",
       "    </tr>\n",
       "    <tr>\n",
       "      <th>Walter Isaacson</th>\n",
       "      <td>2</td>\n",
       "      <td>4.55</td>\n",
       "    </tr>\n",
       "    <tr>\n",
       "      <th>William Davis</th>\n",
       "      <td>1</td>\n",
       "      <td>4.40</td>\n",
       "    </tr>\n",
       "    <tr>\n",
       "      <th>William P. Young</th>\n",
       "      <td>1</td>\n",
       "      <td>4.60</td>\n",
       "    </tr>\n",
       "    <tr>\n",
       "      <th>Wizards RPG Team</th>\n",
       "      <td>1</td>\n",
       "      <td>4.80</td>\n",
       "    </tr>\n",
       "    <tr>\n",
       "      <th>Zhi Gang Sha</th>\n",
       "      <td>2</td>\n",
       "      <td>4.60</td>\n",
       "    </tr>\n",
       "  </tbody>\n",
       "</table>\n",
       "<p>248 rows × 2 columns</p>\n",
       "</div>"
      ],
      "text/plain": [
       "                            count  user_rating\n",
       "author                                        \n",
       "Abraham Verghese                1         4.60\n",
       "Adam Gasiewski                  1         4.40\n",
       "Adam Mansbach                   1         4.80\n",
       "Adir Levy                       1         4.80\n",
       "Admiral William H. McRaven      1         4.70\n",
       "...                           ...          ...\n",
       "Walter Isaacson                 2         4.55\n",
       "William Davis                   1         4.40\n",
       "William P. Young                1         4.60\n",
       "Wizards RPG Team                1         4.80\n",
       "Zhi Gang Sha                    2         4.60\n",
       "\n",
       "[248 rows x 2 columns]"
      ]
     },
     "execution_count": 49,
     "metadata": {},
     "output_type": "execute_result"
    }
   ],
   "source": [
    "df_concat = pd.concat([new_df, new_df2], axis=1)\n",
    "df_concat"
   ]
  },
  {
   "cell_type": "code",
   "execution_count": 50,
   "id": "45a44ac3",
   "metadata": {},
   "outputs": [],
   "source": [
    "## 10. Sort by increasing number of books and increasing rating."
   ]
  },
  {
   "cell_type": "code",
   "execution_count": 51,
   "id": "ddaa15ab",
   "metadata": {},
   "outputs": [
    {
     "data": {
      "text/html": [
       "<div>\n",
       "<style scoped>\n",
       "    .dataframe tbody tr th:only-of-type {\n",
       "        vertical-align: middle;\n",
       "    }\n",
       "\n",
       "    .dataframe tbody tr th {\n",
       "        vertical-align: top;\n",
       "    }\n",
       "\n",
       "    .dataframe thead th {\n",
       "        text-align: right;\n",
       "    }\n",
       "</style>\n",
       "<table border=\"1\" class=\"dataframe\">\n",
       "  <thead>\n",
       "    <tr style=\"text-align: right;\">\n",
       "      <th></th>\n",
       "      <th>count</th>\n",
       "      <th>user_rating</th>\n",
       "    </tr>\n",
       "    <tr>\n",
       "      <th>author</th>\n",
       "      <th></th>\n",
       "      <th></th>\n",
       "    </tr>\n",
       "  </thead>\n",
       "  <tbody>\n",
       "    <tr>\n",
       "      <th>Donna Tartt</th>\n",
       "      <td>1</td>\n",
       "      <td>3.900000</td>\n",
       "    </tr>\n",
       "    <tr>\n",
       "      <th>Gallup</th>\n",
       "      <td>1</td>\n",
       "      <td>4.000000</td>\n",
       "    </tr>\n",
       "    <tr>\n",
       "      <th>Gillian Flynn</th>\n",
       "      <td>1</td>\n",
       "      <td>4.000000</td>\n",
       "    </tr>\n",
       "    <tr>\n",
       "      <th>Muriel Barbery</th>\n",
       "      <td>1</td>\n",
       "      <td>4.000000</td>\n",
       "    </tr>\n",
       "    <tr>\n",
       "      <th>Chris Cleave</th>\n",
       "      <td>1</td>\n",
       "      <td>4.100000</td>\n",
       "    </tr>\n",
       "    <tr>\n",
       "      <th>...</th>\n",
       "      <td>...</td>\n",
       "      <td>...</td>\n",
       "    </tr>\n",
       "    <tr>\n",
       "      <th>Bill O'Reilly</th>\n",
       "      <td>6</td>\n",
       "      <td>4.633333</td>\n",
       "    </tr>\n",
       "    <tr>\n",
       "      <th>Dav Pilkey</th>\n",
       "      <td>6</td>\n",
       "      <td>4.900000</td>\n",
       "    </tr>\n",
       "    <tr>\n",
       "      <th>Stephenie Meyer</th>\n",
       "      <td>7</td>\n",
       "      <td>4.657143</td>\n",
       "    </tr>\n",
       "    <tr>\n",
       "      <th>Rick Riordan</th>\n",
       "      <td>10</td>\n",
       "      <td>4.770000</td>\n",
       "    </tr>\n",
       "    <tr>\n",
       "      <th>Jeff Kinney</th>\n",
       "      <td>12</td>\n",
       "      <td>4.800000</td>\n",
       "    </tr>\n",
       "  </tbody>\n",
       "</table>\n",
       "<p>248 rows × 2 columns</p>\n",
       "</div>"
      ],
      "text/plain": [
       "                 count  user_rating\n",
       "author                             \n",
       "Donna Tartt          1     3.900000\n",
       "Gallup               1     4.000000\n",
       "Gillian Flynn        1     4.000000\n",
       "Muriel Barbery       1     4.000000\n",
       "Chris Cleave         1     4.100000\n",
       "...                ...          ...\n",
       "Bill O'Reilly        6     4.633333\n",
       "Dav Pilkey           6     4.900000\n",
       "Stephenie Meyer      7     4.657143\n",
       "Rick Riordan        10     4.770000\n",
       "Jeff Kinney         12     4.800000\n",
       "\n",
       "[248 rows x 2 columns]"
      ]
     },
     "execution_count": 51,
     "metadata": {},
     "output_type": "execute_result"
    }
   ],
   "source": [
    "author_sorts = df_concat.sort_values(by=['count', 'user_rating'])\n",
    "author_sorts"
   ]
  },
  {
   "cell_type": "code",
   "execution_count": 52,
   "id": "fab6c69d",
   "metadata": {},
   "outputs": [
    {
     "name": "stdout",
     "output_type": "stream",
     "text": [
      "Answer: Donna Tartt\n"
     ]
    }
   ],
   "source": [
    "first_author = author_sorts.index[0]\n",
    "print(\"Answer:\", first_author)"
   ]
  },
  {
   "cell_type": "markdown",
   "id": "a73727da",
   "metadata": {},
   "source": [
    "__Visualization__"
   ]
  },
  {
   "cell_type": "code",
   "execution_count": 53,
   "id": "1915ece8",
   "metadata": {},
   "outputs": [
    {
     "data": {
      "image/png": "[encoded data removed]",
      "text/plain": [
       "<Figure size 1000x600 with 1 Axes>"
      ]
     },
     "metadata": {},
     "output_type": "display_data"
    }
   ],
   "source": [
    "#histograma\n",
    "grouped_ratings = df.groupby('author')['user_rating'].mean()\n",
    "\n",
    "plt.figure(figsize=(10, 6))\n",
    "plt.hist(grouped_ratings, bins=30, color='skyblue', edgecolor='black')\n",
    "plt.title('Distribution of Ratings')\n",
    "plt.xlabel('Rating')\n",
    "plt.ylabel('Frequency')\n",
    "plt.grid(True)\n",
    "plt.show()"
   ]
  },
  {
   "cell_type": "code",
   "execution_count": 54,
   "id": "17839c83",
   "metadata": {},
   "outputs": [
    {
     "data": {
      "image/png": "[encoded data removed]",
      "text/plain": [
       "<Figure size 1000x600 with 1 Axes>"
      ]
     },
     "metadata": {},
     "output_type": "display_data"
    }
   ],
   "source": [
    "#scatter\n",
    "\n",
    "x = df['user_rating']\n",
    "y = df['reviews']\n",
    "\n",
    "plt.figure(figsize=(10, 6))\n",
    "plt.scatter(x=x, y=y, alpha=0.5, color='gold')\n",
    "plt.title('User Ratings vs Number of Reviews')\n",
    "plt.xlabel('User Rating')\n",
    "plt.ylabel('Number of Reviews')\n",
    "plt.show()"
   ]
  },
  {
   "cell_type": "code",
   "execution_count": 55,
   "id": "904876de",
   "metadata": {},
   "outputs": [
    {
     "data": {
      "image/png": "[encoded data removed]",
      "text/plain": [
       "<Figure size 1000x600 with 1 Axes>"
      ]
     },
     "metadata": {},
     "output_type": "display_data"
    }
   ],
   "source": [
    "#scatter\n",
    "yearly_avg_price = df.groupby('year').price.mean()\n",
    "yearly_avg_price_genre = df.groupby(['year', 'genre'])['price'].mean().unstack()\n",
    "\n",
    "plt.figure(figsize=(10, 6))\n",
    "yearly_avg_price.plot(kind='line', label='By genre')\n",
    "yearly_avg_price_genre['Fiction'].plot(kind='line', label='For genre \"Fiction\" ')\n",
    "yearly_avg_price_genre['Non Fiction'].plot(kind='line', label='For genre \"Non Fiction\" ')\n",
    "plt.title('Average price a books by years')\n",
    "plt.xlabel('Year')\n",
    "plt.ylabel('Average price per one books')\n",
    "plt.grid(True, linestyle='--', alpha=0.5)\n",
    "\n",
    "plt.xticks(yearly_avg_price.index[::1]) \n",
    "plt.legend()\n",
    "plt.show()"
   ]
  },
  {
   "cell_type": "code",
   "execution_count": 56,
   "id": "9b6df4b7",
   "metadata": {},
   "outputs": [
    {
     "data": {
      "text/plain": [
       "<Figure size 800x600 with 0 Axes>"
      ]
     },
     "metadata": {},
     "output_type": "display_data"
    },
    {
     "data": {
      "image/png": "[encoded data removed]",
      "text/plain": [
       "<Figure size 640x480 with 1 Axes>"
      ]
     },
     "metadata": {},
     "output_type": "display_data"
    }
   ],
   "source": [
    "#chart bar\n",
    "top_authors = new_df.sort_values(by='count', ascending=False).head(5)\n",
    "\n",
    "plt.figure(figsize=(8, 6))\n",
    "top_authors.plot(kind='bar')\n",
    "plt.title('Top 5 Authors with the Most Books')\n",
    "plt.xlabel('Author')\n",
    "plt.ylabel('Number of Books')\n",
    "plt.xticks(rotation=35)\n",
    "plt.show()"
   ]
  }
 ],
 "metadata": {
  "kernelspec": {
   "display_name": "Python 3 (ipykernel)",
   "language": "python",
   "name": "python3"
  },
  "language_info": {
   "codemirror_mode": {
    "name": "ipython",
    "version": 3
   },
   "file_extension": ".py",
   "mimetype": "text/x-python",
   "name": "python",
   "nbconvert_exporter": "python",
   "pygments_lexer": "ipython3",
   "version": "3.11.5"
  }
 },
 "nbformat": 4,
 "nbformat_minor": 5
}
